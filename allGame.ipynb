{
 "cells": [
  {
   "cell_type": "code",
   "execution_count": 23,
   "id": "initial_id",
   "metadata": {
    "collapsed": false,
    "ExecuteTime": {
     "end_time": "2023-11-21T19:02:29.551630Z",
     "start_time": "2023-11-21T19:02:29.517411Z"
    }
   },
   "outputs": [],
   "source": [
    "# importing required libraries\n",
    "# Game One Analysis\n",
    "import pandas as pd\n",
    "import matplotlib.pyplot as plt\n",
    "import seaborn as sns"
   ]
  },
  {
   "cell_type": "code",
   "execution_count": 24,
   "id": "5e010fb116297d84",
   "metadata": {
    "collapsed": false,
    "ExecuteTime": {
     "end_time": "2023-11-21T19:02:29.601145Z",
     "start_time": "2023-11-21T19:02:29.524984Z"
    }
   },
   "outputs": [],
   "source": [
    "merged_df = pd.read_csv('merged_data.csv')"
   ]
  },
  {
   "cell_type": "code",
   "execution_count": 25,
   "id": "3ddd56501dd019e0",
   "metadata": {
    "collapsed": false,
    "ExecuteTime": {
     "end_time": "2023-11-21T19:02:29.601758Z",
     "start_time": "2023-11-21T19:02:29.545084Z"
    }
   },
   "outputs": [
    {
     "name": "stdout",
     "output_type": "stream",
     "text": [
      "         Winner\n",
      "Rounds         \n",
      "1         Manav\n",
      "2       Aaditya\n",
      "3       Sushant\n",
      "4       Sushant\n",
      "5       Aaditya\n",
      "6          Mith\n",
      "7         Manav\n",
      "8          Mith\n",
      "9       Sushant\n",
      "10       Gaurab\n",
      "11      Sushant\n",
      "12      Sushant\n",
      "13        Manav\n",
      "14      Aaditya\n",
      "15        Manav\n",
      "16       Gaurab\n",
      "17       Gaurab\n",
      "18      Aaditya\n",
      "19      Aaditya\n",
      "20      Aaditya\n",
      "21      Aaditya\n",
      "22       Gaurab\n",
      "23       Gaurab\n",
      "24      Sushant\n",
      "25      Sushant\n",
      "26      Aaditya\n",
      "27      Aaditya\n",
      "28       Gaurab\n",
      "29        Manav\n",
      "30      Aaditya\n",
      "31       Gaurab\n"
     ]
    }
   ],
   "source": [
    "merged_df.set_index('Rounds', inplace=True)\n",
    "merged_df.replace('-', 1000, inplace=True)\n",
    "merged_df = merged_df.apply(pd.to_numeric)\n",
    "winners = merged_df.idxmin(axis=1)\n",
    "w_merged_df = pd.DataFrame({'Winner': winners})\n",
    "print(w_merged_df)"
   ]
  },
  {
   "cell_type": "code",
   "execution_count": 26,
   "id": "7ce5062e4307a3f1",
   "metadata": {
    "collapsed": false,
    "ExecuteTime": {
     "end_time": "2023-11-21T19:02:29.602650Z",
     "start_time": "2023-11-21T19:02:29.551503Z"
    }
   },
   "outputs": [
    {
     "data": {
      "text/plain": "        Aaditya  Manav  Sushant  Gaurab  Mith\nRounds                                       \n1             5      0        5       5     5\n2             0      5       15      20     5\n3            10      5        0       5     5\n4             5      5        0      25    30\n5             0     10       10      10    20",
      "text/html": "<div>\n<style scoped>\n    .dataframe tbody tr th:only-of-type {\n        vertical-align: middle;\n    }\n\n    .dataframe tbody tr th {\n        vertical-align: top;\n    }\n\n    .dataframe thead th {\n        text-align: right;\n    }\n</style>\n<table border=\"1\" class=\"dataframe\">\n  <thead>\n    <tr style=\"text-align: right;\">\n      <th></th>\n      <th>Aaditya</th>\n      <th>Manav</th>\n      <th>Sushant</th>\n      <th>Gaurab</th>\n      <th>Mith</th>\n    </tr>\n    <tr>\n      <th>Rounds</th>\n      <th></th>\n      <th></th>\n      <th></th>\n      <th></th>\n      <th></th>\n    </tr>\n  </thead>\n  <tbody>\n    <tr>\n      <th>1</th>\n      <td>5</td>\n      <td>0</td>\n      <td>5</td>\n      <td>5</td>\n      <td>5</td>\n    </tr>\n    <tr>\n      <th>2</th>\n      <td>0</td>\n      <td>5</td>\n      <td>15</td>\n      <td>20</td>\n      <td>5</td>\n    </tr>\n    <tr>\n      <th>3</th>\n      <td>10</td>\n      <td>5</td>\n      <td>0</td>\n      <td>5</td>\n      <td>5</td>\n    </tr>\n    <tr>\n      <th>4</th>\n      <td>5</td>\n      <td>5</td>\n      <td>0</td>\n      <td>25</td>\n      <td>30</td>\n    </tr>\n    <tr>\n      <th>5</th>\n      <td>0</td>\n      <td>10</td>\n      <td>10</td>\n      <td>10</td>\n      <td>20</td>\n    </tr>\n  </tbody>\n</table>\n</div>"
     },
     "execution_count": 26,
     "metadata": {},
     "output_type": "execute_result"
    }
   ],
   "source": [
    "merged_df.head()"
   ]
  },
  {
   "cell_type": "code",
   "execution_count": 27,
   "id": "2b368970d3ade867",
   "metadata": {
    "collapsed": false,
    "ExecuteTime": {
     "end_time": "2023-11-21T19:02:29.603965Z",
     "start_time": "2023-11-21T19:02:29.562493Z"
    }
   },
   "outputs": [
    {
     "data": {
      "text/plain": "         Aaditya      Manav    Sushant     Gaurab         Mith\ncount  31.000000  31.000000  31.000000  31.000000    31.000000\nmean   11.129032  10.806452  12.096774  11.129032   587.419355\nstd    15.039375  13.668502  15.904622  14.300914   493.706848\nmin     0.000000   0.000000   0.000000   0.000000     0.000000\n25%     0.000000   5.000000   5.000000   5.000000    10.000000\n50%     5.000000   5.000000   5.000000   5.000000  1000.000000\n75%    15.000000  10.000000  15.000000  15.000000  1000.000000\nmax    45.000000  65.000000  80.000000  60.000000  1000.000000",
      "text/html": "<div>\n<style scoped>\n    .dataframe tbody tr th:only-of-type {\n        vertical-align: middle;\n    }\n\n    .dataframe tbody tr th {\n        vertical-align: top;\n    }\n\n    .dataframe thead th {\n        text-align: right;\n    }\n</style>\n<table border=\"1\" class=\"dataframe\">\n  <thead>\n    <tr style=\"text-align: right;\">\n      <th></th>\n      <th>Aaditya</th>\n      <th>Manav</th>\n      <th>Sushant</th>\n      <th>Gaurab</th>\n      <th>Mith</th>\n    </tr>\n  </thead>\n  <tbody>\n    <tr>\n      <th>count</th>\n      <td>31.000000</td>\n      <td>31.000000</td>\n      <td>31.000000</td>\n      <td>31.000000</td>\n      <td>31.000000</td>\n    </tr>\n    <tr>\n      <th>mean</th>\n      <td>11.129032</td>\n      <td>10.806452</td>\n      <td>12.096774</td>\n      <td>11.129032</td>\n      <td>587.419355</td>\n    </tr>\n    <tr>\n      <th>std</th>\n      <td>15.039375</td>\n      <td>13.668502</td>\n      <td>15.904622</td>\n      <td>14.300914</td>\n      <td>493.706848</td>\n    </tr>\n    <tr>\n      <th>min</th>\n      <td>0.000000</td>\n      <td>0.000000</td>\n      <td>0.000000</td>\n      <td>0.000000</td>\n      <td>0.000000</td>\n    </tr>\n    <tr>\n      <th>25%</th>\n      <td>0.000000</td>\n      <td>5.000000</td>\n      <td>5.000000</td>\n      <td>5.000000</td>\n      <td>10.000000</td>\n    </tr>\n    <tr>\n      <th>50%</th>\n      <td>5.000000</td>\n      <td>5.000000</td>\n      <td>5.000000</td>\n      <td>5.000000</td>\n      <td>1000.000000</td>\n    </tr>\n    <tr>\n      <th>75%</th>\n      <td>15.000000</td>\n      <td>10.000000</td>\n      <td>15.000000</td>\n      <td>15.000000</td>\n      <td>1000.000000</td>\n    </tr>\n    <tr>\n      <th>max</th>\n      <td>45.000000</td>\n      <td>65.000000</td>\n      <td>80.000000</td>\n      <td>60.000000</td>\n      <td>1000.000000</td>\n    </tr>\n  </tbody>\n</table>\n</div>"
     },
     "execution_count": 27,
     "metadata": {},
     "output_type": "execute_result"
    }
   ],
   "source": [
    "merged_df.describe()"
   ]
  },
  {
   "cell_type": "code",
   "execution_count": 28,
   "id": "d9456ae89f314258",
   "metadata": {
    "collapsed": false,
    "ExecuteTime": {
     "end_time": "2023-11-21T19:02:29.834168Z",
     "start_time": "2023-11-21T19:02:29.578432Z"
    }
   },
   "outputs": [
    {
     "data": {
      "text/plain": "<AxesSubplot:ylabel='Rounds'>"
     },
     "execution_count": 28,
     "metadata": {},
     "output_type": "execute_result"
    },
    {
     "data": {
      "text/plain": "<Figure size 432x288 with 2 Axes>",
      "image/png": "[encoded data removed]"
     },
     "metadata": {},
     "output_type": "display_data"
    }
   ],
   "source": [
    "pivot_data = merged_df\n",
    "sns.heatmap(pivot_data, cmap='coolwarm', annot=True, fmt=\".1f\")"
   ]
  },
  {
   "cell_type": "code",
   "execution_count": 29,
   "id": "d62f4b0230b0cdad",
   "metadata": {
    "collapsed": false,
    "ExecuteTime": {
     "end_time": "2023-11-21T19:02:29.834684Z",
     "start_time": "2023-11-21T19:02:29.829847Z"
    }
   },
   "outputs": [
    {
     "name": "stdout",
     "output_type": "stream",
     "text": [
      "        Aaditya  Manav  Sushant  Gaurab  Mith\n",
      "Rounds                                       \n",
      "1             5      0        5       5     5\n",
      "2             0      5       15      20     5\n",
      "3            10      5        0       5     5\n",
      "4             5      5        0      25    30\n",
      "5             0     10       10      10    20\n",
      "6             5      5       10      25     0\n",
      "7            20      0       10       5     5\n",
      "8            30      5       20       5     0\n",
      "9             5     10        0       5    35\n",
      "10           45     10        5       0    15\n",
      "11            5      5        0      60    80\n",
      "12            5     25        0       5     5\n",
      "13           45      0        5      25     5\n",
      "14            0     10       10      10  1000\n",
      "15            5      0       15      50  1000\n",
      "16            5     15       20       0  1000\n",
      "17            5     10       30       0  1000\n",
      "18            0      5        5      15  1000\n",
      "19            0      5       80       5  1000\n",
      "20            0     10        5       5  1000\n",
      "21            0      5       30       5  1000\n",
      "22           25     65       30       0  1000\n",
      "23           40     10       15       0  1000\n",
      "24            5     30        0       5  1000\n",
      "25           45      5        0       5  1000\n",
      "26            0     40       30       5  1000\n",
      "27            0      5        5      25  1000\n",
      "28           25      5        5       0  1000\n",
      "29            5      0        5      15  1000\n",
      "30            0      5        5       5  1000\n",
      "31            5     25        5       0  1000\n"
     ]
    }
   ],
   "source": [
    "print(merged_df)"
   ]
  },
  {
   "cell_type": "code",
   "execution_count": 30,
   "id": "a8d3f9cb9a8acc52",
   "metadata": {
    "collapsed": false,
    "ExecuteTime": {
     "end_time": "2023-11-21T19:02:29.890048Z",
     "start_time": "2023-11-21T19:02:29.848903Z"
    }
   },
   "outputs": [
    {
     "name": "stdout",
     "output_type": "stream",
     "text": [
      "       Total   Winner\n",
      "Round                \n",
      "1         20    Manav\n",
      "2         45  Aaditya\n",
      "3         25  Sushant\n",
      "4         65  Sushant\n",
      "5         50  Aaditya\n",
      "6         45     Mith\n",
      "7         40    Manav\n",
      "8         60     Mith\n",
      "9         55  Sushant\n",
      "10        75   Gaurab\n",
      "11       150  Sushant\n",
      "12        40  Sushant\n",
      "13        80    Manav\n",
      "14        30  Aaditya\n",
      "15        70    Manav\n",
      "16        40   Gaurab\n",
      "17        45   Gaurab\n",
      "18        25  Aaditya\n",
      "19        90  Aaditya\n",
      "20        20  Aaditya\n",
      "21        40  Aaditya\n",
      "22       120   Gaurab\n",
      "23        65   Gaurab\n",
      "24        40  Sushant\n",
      "25        55  Sushant\n",
      "26        75  Aaditya\n",
      "27        35  Aaditya\n",
      "28        35   Gaurab\n",
      "29        25    Manav\n",
      "30        15  Aaditya\n",
      "31        35   Gaurab\n"
     ]
    }
   ],
   "source": [
    "results = []\n",
    "\n",
    "for index, row in merged_df.iterrows():\n",
    "    filtered_row = row[row != 1000]\n",
    "    if not filtered_row.empty:\n",
    "        min_score = filtered_row.min()\n",
    "        winners = filtered_row[filtered_row == min_score].index.tolist()\n",
    "\n",
    "        for winner in winners:\n",
    "            results.append({'Round': index, 'Total': filtered_row.sum(), 'Winner': winner})\n",
    "\n",
    "winner_df = pd.DataFrame(results)\n",
    "\n",
    "winner_df.set_index('Round', inplace=True)\n",
    "\n",
    "print(winner_df)"
   ]
  },
  {
   "cell_type": "code",
   "execution_count": 31,
   "id": "cf56f960c1971ac4",
   "metadata": {
    "collapsed": false,
    "ExecuteTime": {
     "end_time": "2023-11-21T19:02:29.890582Z",
     "start_time": "2023-11-21T19:02:29.854440Z"
    }
   },
   "outputs": [
    {
     "name": "stdout",
     "output_type": "stream",
     "text": [
      "Aaditya    10\n",
      "Sushant     7\n",
      "Gaurab      7\n",
      "Manav       5\n",
      "Mith        2\n",
      "Name: Winner, dtype: int64\n"
     ]
    }
   ],
   "source": [
    "win_counts = winner_df['Winner'].value_counts()\n",
    "print(win_counts)"
   ]
  },
  {
   "cell_type": "code",
   "execution_count": 32,
   "id": "894a91a23cfbc36a",
   "metadata": {
    "collapsed": false,
    "ExecuteTime": {
     "end_time": "2023-11-21T19:02:29.890789Z",
     "start_time": "2023-11-21T19:02:29.858629Z"
    }
   },
   "outputs": [
    {
     "name": "stdout",
     "output_type": "stream",
     "text": [
      "At Round: 1, Manav is owed: 20.0\n",
      "At Round: 2, Aaditya is owed: 45.0\n",
      "At Round: 3, Sushant is owed: 25.0\n",
      "At Round: 4, Sushant is owed: 65.0\n",
      "At Round: 5, Aaditya is owed: 50.0\n",
      "At Round: 6, Mith is owed: 45.0\n",
      "At Round: 7, Manav is owed: 40.0\n",
      "At Round: 8, Mith is owed: 60.0\n",
      "At Round: 9, Sushant is owed: 55.0\n",
      "At Round: 10, Gaurab is owed: 75.0\n",
      "At Round: 11, Sushant is owed: 150.0\n",
      "At Round: 12, Sushant is owed: 40.0\n",
      "At Round: 13, Manav is owed: 80.0\n",
      "At Round: 14, Aaditya is owed: 30.0\n",
      "At Round: 15, Manav is owed: 70.0\n",
      "At Round: 16, Gaurab is owed: 40.0\n",
      "At Round: 17, Gaurab is owed: 45.0\n",
      "At Round: 18, Aaditya is owed: 25.0\n",
      "At Round: 19, Aaditya is owed: 90.0\n",
      "At Round: 20, Aaditya is owed: 20.0\n",
      "At Round: 21, Aaditya is owed: 40.0\n",
      "At Round: 22, Gaurab is owed: 120.0\n",
      "At Round: 23, Gaurab is owed: 65.0\n",
      "At Round: 24, Sushant is owed: 40.0\n",
      "At Round: 25, Sushant is owed: 55.0\n",
      "At Round: 26, Aaditya is owed: 75.0\n",
      "At Round: 27, Aaditya is owed: 35.0\n",
      "At Round: 28, Gaurab is owed: 35.0\n",
      "At Round: 29, Manav is owed: 25.0\n",
      "At Round: 30, Aaditya is owed: 15.0\n",
      "At Round: 31, Gaurab is owed: 35.0\n"
     ]
    }
   ],
   "source": [
    "for index, row in merged_df.iterrows():\n",
    "    filtered_row = row[row != 1000]\n",
    "\n",
    "    sum_row = filtered_row.sum()  # Calculating the sum of the row values\n",
    "    winners = [col for col, val in filtered_row.items() if val == 0]\n",
    "    num_winners = len(winners)\n",
    "    \n",
    "    if sum_row != 0 and num_winners > 0:\n",
    "        debt_per_winner = sum_row / num_winners\n",
    "        for winner in winners:\n",
    "            print(f\"At Round: {index}, {winner} is owed: {debt_per_winner}\")\n"
   ]
  },
  {
   "cell_type": "code",
   "execution_count": 33,
   "id": "53db3e56f692de6e",
   "metadata": {
    "collapsed": false,
    "ExecuteTime": {
     "end_time": "2023-11-21T19:02:29.891565Z",
     "start_time": "2023-11-21T19:02:29.875706Z"
    }
   },
   "outputs": [
    {
     "name": "stdout",
     "output_type": "stream",
     "text": [
      "At Round: 1, Manav is owed: 20.0\n",
      "At Round: 2, Aaditya is owed: 45.0\n",
      "At Round: 3, Sushant is owed: 25.0\n",
      "At Round: 4, Sushant is owed: 65.0\n",
      "At Round: 5, Aaditya is owed: 50.0\n",
      "At Round: 6, Mith is owed: 45.0\n",
      "At Round: 7, Manav is owed: 40.0\n",
      "At Round: 8, Mith is owed: 60.0\n",
      "At Round: 9, Sushant is owed: 55.0\n",
      "At Round: 10, Gaurab is owed: 75.0\n",
      "At Round: 11, Sushant is owed: 150.0\n",
      "At Round: 12, Sushant is owed: 40.0\n",
      "At Round: 13, Manav is owed: 80.0\n",
      "At Round: 14, Aaditya is owed: 30.0\n",
      "At Round: 15, Manav is owed: 70.0\n",
      "At Round: 16, Gaurab is owed: 40.0\n",
      "At Round: 17, Gaurab is owed: 45.0\n",
      "At Round: 18, Aaditya is owed: 25.0\n",
      "At Round: 19, Aaditya is owed: 90.0\n",
      "At Round: 20, Aaditya is owed: 20.0\n",
      "At Round: 21, Aaditya is owed: 40.0\n",
      "At Round: 22, Gaurab is owed: 120.0\n",
      "At Round: 23, Gaurab is owed: 65.0\n",
      "At Round: 24, Sushant is owed: 40.0\n",
      "At Round: 25, Sushant is owed: 55.0\n",
      "At Round: 26, Aaditya is owed: 75.0\n",
      "At Round: 27, Aaditya is owed: 35.0\n",
      "At Round: 28, Gaurab is owed: 35.0\n",
      "At Round: 29, Manav is owed: 25.0\n",
      "At Round: 30, Aaditya is owed: 15.0\n",
      "At Round: 31, Gaurab is owed: 35.0\n",
      "Manav: 235.0\n",
      "Aaditya: 425.0\n",
      "Sushant: 430.0\n",
      "Mith: 105.0\n",
      "Gaurab: 415.0\n"
     ]
    }
   ],
   "source": [
    "for index, row in merged_df.iterrows():\n",
    "    filtered_row = row[row != 1000]\n",
    "\n",
    "    sum_row = filtered_row.sum()  # Calculating the sum of the row values\n",
    "    winners = [col for col, val in filtered_row.items() if val == 0]\n",
    "    num_winners = len(winners)\n",
    "\n",
    "    if sum_row != 0 and num_winners > 0:\n",
    "        debt_per_winner = sum_row / num_winners\n",
    "        for winner in winners:\n",
    "            print(f\"At Round: {index}, {winner} is owed: {debt_per_winner}\")\n",
    "\n",
    "winners_owed = {}\n",
    "\n",
    "for index, row in merged_df.iterrows():\n",
    "    filtered_row = row[row != 1000]\n",
    "\n",
    "    sum_row = filtered_row.sum()  # Calculating the sum of the row values\n",
    "    winners = [col for col, val in filtered_row.items() if val == 0]\n",
    "    num_winners = len(winners)\n",
    "\n",
    "    if sum_row != 0 and num_winners > 0:\n",
    "        debt_per_winner = sum_row / num_winners\n",
    "        for winner in winners:\n",
    "            if winner not in winners_owed:\n",
    "                winners_owed[winner] = 0\n",
    "            winners_owed[winner] += debt_per_winner\n",
    "\n",
    "for winner, amount in winners_owed.items():\n",
    "    print(f\"{winner}: {amount}\")\n"
   ]
  },
  {
   "cell_type": "code",
   "execution_count": 34,
   "id": "347deeb3a1671f8b",
   "metadata": {
    "collapsed": false,
    "ExecuteTime": {
     "end_time": "2023-11-21T19:02:29.891727Z",
     "start_time": "2023-11-21T19:02:29.879545Z"
    }
   },
   "outputs": [
    {
     "name": "stdout",
     "output_type": "stream",
     "text": [
      "Aaditya owes 235 to Manav\n",
      "Aaditya owes 225 to Sushant\n",
      "Aaditya owes 255 to Gaurab\n",
      "Aaditya owes 125 to Mith\n",
      "Manav owes 225 to Aaditya\n",
      "Manav owes 160 to Sushant\n",
      "Manav owes 230 to Gaurab\n",
      "Manav owes 30 to Mith\n",
      "Sushant owes 255 to Aaditya\n",
      "Sushant owes 200 to Manav\n",
      "Sushant owes 255 to Gaurab\n",
      "Sushant owes 45 to Mith\n",
      "Gaurab owes 255 to Aaditya\n",
      "Gaurab owes 240 to Manav\n",
      "Gaurab owes 225 to Sushant\n",
      "Gaurab owes 65 to Mith\n",
      "Mith owes 155 to Aaditya\n",
      "Mith owes 155 to Manav\n",
      "Mith owes 175 to Sushant\n",
      "Mith owes 80 to Gaurab\n"
     ]
    }
   ],
   "source": [
    "sum_owed = {player1: {player2: 0 for player2 in merged_df.columns if player2 != player1} for player1 in merged_df.columns}\n",
    "\n",
    "for player1, col1 in merged_df.items():\n",
    "    for player2, col2 in merged_df.items():\n",
    "        if player1 != player2:\n",
    "            for score1, score2 in zip(col1, col2):\n",
    "                # Skip the round if either player did not participate\n",
    "                if score1 != 1000 and score2 != 1000:\n",
    "                    if score1 > score2:\n",
    "                        sum_owed[player1][player2] += score1 - score2\n",
    "\n",
    "output = []\n",
    "\n",
    "for player1, debts in sum_owed.items():\n",
    "    for player2, amount in debts.items():\n",
    "        if amount > 0:\n",
    "            output.append(f\"{player1} owes {amount} to {player2}\")\n",
    "\n",
    "# output\n",
    "for item in output:\n",
    "    print(item)\n"
   ]
  },
  {
   "cell_type": "code",
   "execution_count": 35,
   "id": "f5642ea56ad18ff7",
   "metadata": {
    "collapsed": false,
    "ExecuteTime": {
     "end_time": "2023-11-21T19:02:29.892248Z",
     "start_time": "2023-11-21T19:02:29.883752Z"
    }
   },
   "outputs": [
    {
     "name": "stdout",
     "output_type": "stream",
     "text": [
      "     Debtor  Amount Creditor\n",
      "0   Aaditya     235    Manav\n",
      "1   Aaditya     225  Sushant\n",
      "2   Aaditya     255   Gaurab\n",
      "3   Aaditya     125     Mith\n",
      "4     Manav     225  Aaditya\n",
      "5     Manav     160  Sushant\n",
      "6     Manav     230   Gaurab\n",
      "7     Manav      30     Mith\n",
      "8   Sushant     255  Aaditya\n",
      "9   Sushant     200    Manav\n",
      "10  Sushant     255   Gaurab\n",
      "11  Sushant      45     Mith\n",
      "12   Gaurab     255  Aaditya\n",
      "13   Gaurab     240    Manav\n",
      "14   Gaurab     225  Sushant\n",
      "15   Gaurab      65     Mith\n",
      "16     Mith     155  Aaditya\n",
      "17     Mith     155    Manav\n",
      "18     Mith     175  Sushant\n",
      "19     Mith      80   Gaurab\n"
     ]
    }
   ],
   "source": [
    "# Initializing empty lists for new DataFrame columns\n",
    "debtor = []\n",
    "amount = []\n",
    "creditor = []\n",
    "\n",
    "for line in output:\n",
    "    parts = line.split()\n",
    "    debtor.append(parts[0])\n",
    "    amount.append(int(parts[2]))  \n",
    "    creditor.append(parts[4]) \n",
    "\n",
    "new_df = pd.DataFrame({'Debtor': debtor, 'Amount': amount, 'Creditor': creditor})\n",
    "\n",
    "# Display the new DataFrame\n",
    "print(new_df)"
   ]
  },
  {
   "cell_type": "code",
   "execution_count": 36,
   "id": "4c15e2085f3b5643",
   "metadata": {
    "collapsed": false,
    "ExecuteTime": {
     "end_time": "2023-11-21T19:02:29.901511Z",
     "start_time": "2023-11-21T19:02:29.896324Z"
    }
   },
   "outputs": [
    {
     "name": "stdout",
     "output_type": "stream",
     "text": [
      "     Debtor  Amount Creditor\n",
      "0   Aaditya      10    Manav\n",
      "8   Sushant      30  Aaditya\n",
      "9   Sushant      40    Manav\n",
      "10  Sushant      30   Gaurab\n",
      "13   Gaurab      10    Manav\n",
      "16     Mith      30  Aaditya\n",
      "17     Mith     125    Manav\n",
      "18     Mith     130  Sushant\n",
      "19     Mith      15   Gaurab\n"
     ]
    }
   ],
   "source": [
    "# Initialize a dictionary to store adjustments\n",
    "adjustments = {}\n",
    "\n",
    "# Iterate over the DataFrame to identify adjustments\n",
    "for index, row in new_df.iterrows():\n",
    "    debtor = row['Debtor']\n",
    "    amount = row['Amount']\n",
    "    creditor = row['Creditor']\n",
    "\n",
    "    # Check if the reverse debt (creditor as debtor and vice versa) exists\n",
    "    reverse_key = (creditor, debtor)\n",
    "    current_key = (debtor, creditor) \n",
    "    if reverse_key in adjustments:\n",
    "        # Calculate the net amount after adjustment\n",
    "        net_amount = amount - adjustments[reverse_key]\n",
    "\n",
    "        if net_amount > 0:\n",
    "            adjustments[current_key] = net_amount\n",
    "            adjustments[reverse_key] = 0\n",
    "        else:\n",
    "            adjustments[reverse_key] -= amount\n",
    "            adjustments[current_key] = 0\n",
    "    else:\n",
    "        # If no reverse debt, add the current debt to adjustments\n",
    "        adjustments[current_key] = amount\n",
    "\n",
    "# Apply the adjustments to the DataFrame\n",
    "for (debtor, creditor), amount in adjustments.items():\n",
    "    new_df.loc[(new_df['Debtor'] == debtor) & (new_df['Creditor'] == creditor), 'Amount'] = amount\n",
    "\n",
    "# Remove rows with zero amount (fully adjusted debts)\n",
    "new_df = new_df[new_df['Amount'] > 0]\n",
    "\n",
    "# Print the final result\n",
    "print(new_df)"
   ]
  },
  {
   "cell_type": "code",
   "execution_count": 37,
   "outputs": [
    {
     "data": {
      "text/plain": "<Figure size 720x432 with 1 Axes>",
      "image/png": "[encoded data removed]"
     },
     "metadata": {},
     "output_type": "display_data"
    }
   ],
   "source": [
    "plt.figure(figsize=(10, 6))\n",
    "plt.hist(new_df['Amount'], bins=10, color='gray', edgecolor='green')\n",
    "plt.title('Distribution of Debt Amounts')\n",
    "plt.xlabel('Amount Owed')\n",
    "plt.ylabel('Frequency')\n",
    "plt.show()"
   ],
   "metadata": {
    "collapsed": false,
    "ExecuteTime": {
     "end_time": "2023-11-21T19:02:30.027710Z",
     "start_time": "2023-11-21T19:02:29.901248Z"
    }
   },
   "id": "34a511b4"
  },
  {
   "cell_type": "code",
   "execution_count": 38,
   "outputs": [
    {
     "data": {
      "text/plain": "<Figure size 864x576 with 2 Axes>",
      "image/png": "[encoded data removed]"
     },
     "metadata": {},
     "output_type": "display_data"
    }
   ],
   "source": [
    "# Creating a pivot table for the heatmap\n",
    "new_pivot_table = new_df.pivot(index='Debtor', columns='Creditor', values='Amount')\n",
    "new_pivot_table = new_pivot_table.fillna(0)  # Replacing NaN with 0\n",
    "\n",
    "# Creating the heatmap\n",
    "plt.figure(figsize=(12, 8))\n",
    "sns.heatmap(new_pivot_table, annot=True, cmap=\"seismic\")\n",
    "plt.title('Heatmap of Debts')\n",
    "plt.xlabel('Creditor')\n",
    "plt.ylabel('Debtor')\n",
    "plt.show()"
   ],
   "metadata": {
    "collapsed": false,
    "ExecuteTime": {
     "end_time": "2023-11-21T19:02:30.115065Z",
     "start_time": "2023-11-21T19:02:30.037613Z"
    }
   },
   "id": "7104b9a6afda17b5"
  }
 ],
 "metadata": {
  "kernelspec": {
   "display_name": "Python 3",
   "language": "python",
   "name": "python3"
  },
  "language_info": {
   "codemirror_mode": {
    "name": "ipython",
    "version": 3
   },
   "file_extension": ".py",
   "mimetype": "text/x-python",
   "name": "python",
   "nbconvert_exporter": "python",
   "pygments_lexer": "ipython3",
   "version": "3.9.6"
  }
 },
 "nbformat": 4,
 "nbformat_minor": 5
}
