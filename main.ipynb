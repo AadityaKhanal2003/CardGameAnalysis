{
 "cells": [
  {
   "cell_type": "code",
   "execution_count": 65,
   "id": "cc7bdfc3-b7b8-4436-be17-157b116f83b1",
   "metadata": {
    "ExecuteTime": {
     "end_time": "2023-11-20T04:56:19.674798300Z",
     "start_time": "2023-11-20T04:56:19.651189700Z"
    }
   },
   "outputs": [],
   "source": [
    "# importing required libraries\n",
    "import numpy as np\n",
    "import pandas as pd\n",
    "import seaborn as sns"
   ]
  },
  {
   "cell_type": "code",
   "execution_count": 66,
   "id": "bd77fb49-4218-43ad-8030-7afe4b2e6716",
   "metadata": {
    "ExecuteTime": {
     "end_time": "2023-11-20T04:56:19.678892900Z",
     "start_time": "2023-11-20T04:56:19.653578700Z"
    }
   },
   "outputs": [],
   "source": [
    "df  = pd.read_csv(\"game1.csv\")"
   ]
  },
  {
   "cell_type": "code",
   "execution_count": 67,
   "id": "f44c2d92-8be8-4d57-8776-d9085c242771",
   "metadata": {
    "ExecuteTime": {
     "end_time": "2023-11-20T04:56:19.679396200Z",
     "start_time": "2023-11-20T04:56:19.660823500Z"
    }
   },
   "outputs": [],
   "source": [
    "df.set_index('Rounds', inplace=True)"
   ]
  },
  {
   "cell_type": "code",
   "execution_count": 68,
   "id": "e14b4cf9-bc3e-4982-8bcf-933ebc563d4e",
   "metadata": {
    "ExecuteTime": {
     "end_time": "2023-11-20T04:56:19.679396200Z",
     "start_time": "2023-11-20T04:56:19.663307Z"
    }
   },
   "outputs": [
    {
     "data": {
      "text/plain": "        Aaditya  Manav  Sushant  Gaurab  Mith\nRounds                                       \n1             5      0        5       5     5\n2             0      5       15      20     5\n3            10      5        0       5     5\n4             5      5        0      25    30\n5             0     10       10      10    20",
      "text/html": "<div>\n<style scoped>\n    .dataframe tbody tr th:only-of-type {\n        vertical-align: middle;\n    }\n\n    .dataframe tbody tr th {\n        vertical-align: top;\n    }\n\n    .dataframe thead th {\n        text-align: right;\n    }\n</style>\n<table border=\"1\" class=\"dataframe\">\n  <thead>\n    <tr style=\"text-align: right;\">\n      <th></th>\n      <th>Aaditya</th>\n      <th>Manav</th>\n      <th>Sushant</th>\n      <th>Gaurab</th>\n      <th>Mith</th>\n    </tr>\n    <tr>\n      <th>Rounds</th>\n      <th></th>\n      <th></th>\n      <th></th>\n      <th></th>\n      <th></th>\n    </tr>\n  </thead>\n  <tbody>\n    <tr>\n      <th>1</th>\n      <td>5</td>\n      <td>0</td>\n      <td>5</td>\n      <td>5</td>\n      <td>5</td>\n    </tr>\n    <tr>\n      <th>2</th>\n      <td>0</td>\n      <td>5</td>\n      <td>15</td>\n      <td>20</td>\n      <td>5</td>\n    </tr>\n    <tr>\n      <th>3</th>\n      <td>10</td>\n      <td>5</td>\n      <td>0</td>\n      <td>5</td>\n      <td>5</td>\n    </tr>\n    <tr>\n      <th>4</th>\n      <td>5</td>\n      <td>5</td>\n      <td>0</td>\n      <td>25</td>\n      <td>30</td>\n    </tr>\n    <tr>\n      <th>5</th>\n      <td>0</td>\n      <td>10</td>\n      <td>10</td>\n      <td>10</td>\n      <td>20</td>\n    </tr>\n  </tbody>\n</table>\n</div>"
     },
     "execution_count": 68,
     "metadata": {},
     "output_type": "execute_result"
    }
   ],
   "source": [
    "df.head()"
   ]
  },
  {
   "cell_type": "code",
   "execution_count": 69,
   "id": "30422c0c-affb-4c84-a3ac-229a6453a00f",
   "metadata": {
    "ExecuteTime": {
     "end_time": "2023-11-20T04:56:19.710571100Z",
     "start_time": "2023-11-20T04:56:19.671790300Z"
    }
   },
   "outputs": [
    {
     "data": {
      "text/plain": "         Aaditya      Manav    Sushant     Gaurab       Mith\ncount  18.000000  18.000000  18.000000  18.000000  18.000000\nmean   10.833333   6.944444   8.888889  15.000000  11.666667\nstd    14.476147   6.216413   8.498366  16.977494  20.073395\nmin     0.000000   0.000000   0.000000   0.000000   0.000000\n25%     5.000000   5.000000   1.250000   5.000000   0.000000\n50%     5.000000   5.000000   7.500000   7.500000   5.000000\n75%     8.750000  10.000000  13.750000  23.750000  12.500000\nmax    45.000000  25.000000  30.000000  60.000000  80.000000",
      "text/html": "<div>\n<style scoped>\n    .dataframe tbody tr th:only-of-type {\n        vertical-align: middle;\n    }\n\n    .dataframe tbody tr th {\n        vertical-align: top;\n    }\n\n    .dataframe thead th {\n        text-align: right;\n    }\n</style>\n<table border=\"1\" class=\"dataframe\">\n  <thead>\n    <tr style=\"text-align: right;\">\n      <th></th>\n      <th>Aaditya</th>\n      <th>Manav</th>\n      <th>Sushant</th>\n      <th>Gaurab</th>\n      <th>Mith</th>\n    </tr>\n  </thead>\n  <tbody>\n    <tr>\n      <th>count</th>\n      <td>18.000000</td>\n      <td>18.000000</td>\n      <td>18.000000</td>\n      <td>18.000000</td>\n      <td>18.000000</td>\n    </tr>\n    <tr>\n      <th>mean</th>\n      <td>10.833333</td>\n      <td>6.944444</td>\n      <td>8.888889</td>\n      <td>15.000000</td>\n      <td>11.666667</td>\n    </tr>\n    <tr>\n      <th>std</th>\n      <td>14.476147</td>\n      <td>6.216413</td>\n      <td>8.498366</td>\n      <td>16.977494</td>\n      <td>20.073395</td>\n    </tr>\n    <tr>\n      <th>min</th>\n      <td>0.000000</td>\n      <td>0.000000</td>\n      <td>0.000000</td>\n      <td>0.000000</td>\n      <td>0.000000</td>\n    </tr>\n    <tr>\n      <th>25%</th>\n      <td>5.000000</td>\n      <td>5.000000</td>\n      <td>1.250000</td>\n      <td>5.000000</td>\n      <td>0.000000</td>\n    </tr>\n    <tr>\n      <th>50%</th>\n      <td>5.000000</td>\n      <td>5.000000</td>\n      <td>7.500000</td>\n      <td>7.500000</td>\n      <td>5.000000</td>\n    </tr>\n    <tr>\n      <th>75%</th>\n      <td>8.750000</td>\n      <td>10.000000</td>\n      <td>13.750000</td>\n      <td>23.750000</td>\n      <td>12.500000</td>\n    </tr>\n    <tr>\n      <th>max</th>\n      <td>45.000000</td>\n      <td>25.000000</td>\n      <td>30.000000</td>\n      <td>60.000000</td>\n      <td>80.000000</td>\n    </tr>\n  </tbody>\n</table>\n</div>"
     },
     "execution_count": 69,
     "metadata": {},
     "output_type": "execute_result"
    }
   ],
   "source": [
    "df.describe()"
   ]
  },
  {
   "cell_type": "code",
   "execution_count": 70,
   "id": "7856e671-e96b-4ae5-b280-1cf6452eab4a",
   "metadata": {
    "ExecuteTime": {
     "end_time": "2023-11-20T04:56:19.711574900Z",
     "start_time": "2023-11-20T04:56:19.680399900Z"
    }
   },
   "outputs": [
    {
     "name": "stdout",
     "output_type": "stream",
     "text": [
      "        Aaditya  Manav  Sushant  Gaurab  Mith\n",
      "Rounds                                       \n",
      "1             5      0        5       5     5\n",
      "2             0      5       15      20     5\n",
      "3            10      5        0       5     5\n",
      "4             5      5        0      25    30\n",
      "5             0     10       10      10    20\n",
      "6             5      5       10      25     0\n",
      "7            20      0       10       5     5\n",
      "8            30      5       20       5     0\n",
      "9             5     10        0       5    35\n",
      "10           45     10        5       0    15\n",
      "11            5      5        0      60    80\n",
      "12            5     25        0       5     5\n",
      "13           45      0        5      25     5\n",
      "14            0     10       10      10     0\n",
      "15            5      0       15      50     0\n",
      "16            5     15       20       0     0\n",
      "17            5     10       30       0     0\n",
      "18            0      5        5      15     0\n"
     ]
    }
   ],
   "source": [
    "print(df)"
   ]
  },
  {
   "cell_type": "code",
   "execution_count": 71,
   "id": "2f2f8545-3374-439a-b933-13897302f4ed",
   "metadata": {
    "ExecuteTime": {
     "end_time": "2023-11-20T04:56:19.981436400Z",
     "start_time": "2023-11-20T04:56:19.686024600Z"
    }
   },
   "outputs": [
    {
     "data": {
      "text/plain": "<Axes: ylabel='Rounds'>"
     },
     "execution_count": 71,
     "metadata": {},
     "output_type": "execute_result"
    },
    {
     "data": {
      "text/plain": "<Figure size 640x480 with 2 Axes>",
      "image/png": "[encoded data removed]"
     },
     "metadata": {},
     "output_type": "display_data"
    }
   ],
   "source": [
    "pivot_data = df\n",
    "sns.heatmap(pivot_data, cmap='coolwarm', annot=True, fmt=\".1f\")"
   ]
  },
  {
   "cell_type": "code",
   "execution_count": 72,
   "id": "5d734b61-416b-466f-8ab8-129086986310",
   "metadata": {
    "ExecuteTime": {
     "end_time": "2023-11-20T04:56:19.982659100Z",
     "start_time": "2023-11-20T04:56:19.911165300Z"
    }
   },
   "outputs": [
    {
     "name": "stdout",
     "output_type": "stream",
     "text": [
      "Index: 1, Total: 20, Winner: Manav\n",
      "Index: 2, Total: 45, Winner: Aaditya\n",
      "Index: 3, Total: 25, Winner: Sushant\n",
      "Index: 4, Total: 65, Winner: Sushant\n",
      "Index: 5, Total: 50, Winner: Aaditya\n",
      "Index: 6, Total: 45, Winner: Mith\n",
      "Index: 7, Total: 40, Winner: Manav\n",
      "Index: 8, Total: 60, Winner: Mith\n",
      "Index: 9, Total: 55, Winner: Sushant\n",
      "Index: 10, Total: 75, Winner: Gaurab\n",
      "Index: 11, Total: 150, Winner: Sushant\n",
      "Index: 12, Total: 40, Winner: Sushant\n",
      "Index: 13, Total: 80, Winner: Manav\n",
      "Index: 14, Total: 30, Winner: Aaditya\n",
      "Index: 14, Total: 30, Winner: Mith\n",
      "Index: 15, Total: 70, Winner: Manav\n",
      "Index: 15, Total: 70, Winner: Mith\n",
      "Index: 16, Total: 40, Winner: Gaurab\n",
      "Index: 16, Total: 40, Winner: Mith\n",
      "Index: 17, Total: 45, Winner: Gaurab\n",
      "Index: 17, Total: 45, Winner: Mith\n",
      "Index: 18, Total: 25, Winner: Aaditya\n",
      "Index: 18, Total: 25, Winner: Mith\n"
     ]
    }
   ],
   "source": [
    "for index, row in df.iterrows():\n",
    "    sum_row = row.sum() \n",
    "    for column, cell_value in row.items():\n",
    "        if cell_value == 0:\n",
    "            print(f\"Index: {index}, Total: {sum_row}, Winner: {column}\")"
   ]
  },
  {
   "cell_type": "code",
   "execution_count": 73,
   "id": "d78512f9-6967-40e5-863d-773d25755391",
   "metadata": {
    "ExecuteTime": {
     "end_time": "2023-11-20T04:56:19.982659100Z",
     "start_time": "2023-11-20T04:56:19.919204Z"
    }
   },
   "outputs": [
    {
     "name": "stdout",
     "output_type": "stream",
     "text": [
      "At Index: 1, Manav owes: 20.0\n",
      "At Index: 2, Aaditya owes: 45.0\n",
      "At Index: 3, Sushant owes: 25.0\n",
      "At Index: 4, Sushant owes: 65.0\n",
      "At Index: 5, Aaditya owes: 50.0\n",
      "At Index: 6, Mith owes: 45.0\n",
      "At Index: 7, Manav owes: 40.0\n",
      "At Index: 8, Mith owes: 60.0\n",
      "At Index: 9, Sushant owes: 55.0\n",
      "At Index: 10, Gaurab owes: 75.0\n",
      "At Index: 11, Sushant owes: 150.0\n",
      "At Index: 12, Sushant owes: 40.0\n",
      "At Index: 13, Manav owes: 80.0\n",
      "At Index: 14, Aaditya owes: 15.0\n",
      "At Index: 14, Mith owes: 15.0\n",
      "At Index: 15, Manav owes: 35.0\n",
      "At Index: 15, Mith owes: 35.0\n",
      "At Index: 16, Gaurab owes: 20.0\n",
      "At Index: 16, Mith owes: 20.0\n",
      "At Index: 17, Gaurab owes: 22.5\n",
      "At Index: 17, Mith owes: 22.5\n",
      "At Index: 18, Aaditya owes: 12.5\n",
      "At Index: 18, Mith owes: 12.5\n"
     ]
    }
   ],
   "source": [
    "for index, row in df.iterrows():\n",
    "    sum_row = row.sum()  # Calculating the sum of the row values\n",
    "    winners = [col for col, val in row.items() if val == 0]\n",
    "    num_winners = len(winners)\n",
    "    \n",
    "    if sum_row != 0 and num_winners > 0:\n",
    "        debt_per_winner = sum_row / num_winners\n",
    "        for winner in winners:\n",
    "            print(f\"At Index: {index}, {winner} owes: {debt_per_winner}\")"
   ]
  },
  {
   "cell_type": "code",
   "execution_count": 74,
   "id": "b7698273-ef52-4af0-84f7-74a79234c542",
   "metadata": {
    "ExecuteTime": {
     "end_time": "2023-11-20T04:56:19.982659100Z",
     "start_time": "2023-11-20T04:56:19.924629900Z"
    }
   },
   "outputs": [
    {
     "name": "stdout",
     "output_type": "stream",
     "text": [
      "Manav: 175.0\n",
      "Aaditya: 122.5\n",
      "Sushant: 335.0\n",
      "Mith: 210.0\n",
      "Gaurab: 117.5\n"
     ]
    }
   ],
   "source": [
    "winners_owed = {}\n",
    "\n",
    "for index, row in df.iterrows():\n",
    "    sum_row = row.sum()  \n",
    "    winners = [col for col, val in row.items() if val == 0]\n",
    "    num_winners = len(winners)\n",
    "    \n",
    "    if sum_row != 0 and num_winners > 0:\n",
    "        debt_per_winner = sum_row / num_winners\n",
    "        for winner in winners:\n",
    "            if winner not in winners_owed:\n",
    "                winners_owed[winner] = 0\n",
    "            winners_owed[winner] += debt_per_winner\n",
    "\n",
    "for winner, amount in winners_owed.items():\n",
    "    print(f\"{winner}: {amount}\")"
   ]
  },
  {
   "cell_type": "code",
   "execution_count": 75,
   "id": "835effa5-1877-4a87-b214-73070be6bc02",
   "metadata": {
    "ExecuteTime": {
     "end_time": "2023-11-20T04:56:19.982659100Z",
     "start_time": "2023-11-20T04:56:19.930529300Z"
    }
   },
   "outputs": [
    {
     "name": "stdout",
     "output_type": "stream",
     "text": [
      "Aaditya owes 140 to Manav\n",
      "Aaditya owes 130 to Sushant\n",
      "Aaditya owes 120 to Gaurab\n",
      "Aaditya owes 140 to Mith\n",
      "Manav owes 70 to Aaditya\n",
      "Manav owes 55 to Sushant\n",
      "Manav owes 60 to Gaurab\n",
      "Manav owes 70 to Mith\n",
      "Sushant owes 95 to Aaditya\n",
      "Sushant owes 90 to Manav\n",
      "Sushant owes 75 to Gaurab\n",
      "Sushant owes 125 to Mith\n",
      "Gaurab owes 195 to Aaditya\n",
      "Gaurab owes 205 to Manav\n",
      "Gaurab owes 185 to Sushant\n",
      "Gaurab owes 140 to Mith\n",
      "Mith owes 155 to Aaditya\n",
      "Mith owes 155 to Manav\n",
      "Mith owes 175 to Sushant\n",
      "Mith owes 80 to Gaurab\n"
     ]
    }
   ],
   "source": [
    "sum_owed = {player1: {player2: 0 for player2 in df.columns} for player1 in df.columns}\n",
    "\n",
    "for player1, col1 in df.items():\n",
    "    for player2, col2 in df.items():\n",
    "        if player1 != player2:\n",
    "            for score1, score2 in zip(col1, col2):\n",
    "                if score1 > score2:\n",
    "                    sum_owed[player1][player2] += score1 - score2\n",
    "\n",
    "# Display the sum of how much one player owes to another player\n",
    "output = []\n",
    "\n",
    "for player1, debts in sum_owed.items():\n",
    "    for player2, amount in debts.items():\n",
    "        if amount > 0:\n",
    "            output.append(f\"{player1} owes {amount} to {player2}\")\n",
    "\n",
    "# Display the generated output\n",
    "for item in output:\n",
    "    print(item)"
   ]
  },
  {
   "cell_type": "code",
   "execution_count": 76,
   "id": "53878266-3956-4e4f-84ee-78136ecdc8a6",
   "metadata": {
    "ExecuteTime": {
     "end_time": "2023-11-20T04:56:19.982659100Z",
     "start_time": "2023-11-20T04:56:19.936231400Z"
    }
   },
   "outputs": [
    {
     "name": "stdout",
     "output_type": "stream",
     "text": [
      "     Debtor  Amount Creditor\n",
      "0   Aaditya     140    Manav\n",
      "1   Aaditya     130  Sushant\n",
      "2   Aaditya     120   Gaurab\n",
      "3   Aaditya     140     Mith\n",
      "4     Manav      70  Aaditya\n",
      "5     Manav      55  Sushant\n",
      "6     Manav      60   Gaurab\n",
      "7     Manav      70     Mith\n",
      "8   Sushant      95  Aaditya\n",
      "9   Sushant      90    Manav\n",
      "10  Sushant      75   Gaurab\n",
      "11  Sushant     125     Mith\n",
      "12   Gaurab     195  Aaditya\n",
      "13   Gaurab     205    Manav\n",
      "14   Gaurab     185  Sushant\n",
      "15   Gaurab     140     Mith\n",
      "16     Mith     155  Aaditya\n",
      "17     Mith     155    Manav\n",
      "18     Mith     175  Sushant\n",
      "19     Mith      80   Gaurab\n"
     ]
    }
   ],
   "source": [
    "# Initializing empty lists for new DataFrame columns\n",
    "debtor = []\n",
    "amount = []\n",
    "creditor = []\n",
    "\n",
    "# Parsing the output and extract information for the new DataFrame columns\n",
    "for line in output:\n",
    "    parts = line.split()\n",
    "    debtor.append(parts[0])\n",
    "    amount.append(int(parts[2]))\n",
    "    creditor.append(parts[4])\n",
    "\n",
    "new_df = pd.DataFrame({'Debtor': debtor, 'Amount': amount, 'Creditor': creditor})\n",
    "\n",
    "# Display the new DataFrame\n",
    "print(new_df)"
   ]
  },
  {
   "cell_type": "code",
   "execution_count": 77,
   "outputs": [
    {
     "name": "stdout",
     "output_type": "stream",
     "text": [
      "     Debtor  Amount Creditor\n",
      "0   Aaditya       0    Manav\n",
      "1   Aaditya       0  Sushant\n",
      "2   Aaditya       0   Gaurab\n",
      "3   Aaditya       0     Mith\n",
      "4     Manav       0  Aaditya\n",
      "5     Manav       0  Sushant\n",
      "6     Manav       0   Gaurab\n",
      "7     Manav       0     Mith\n",
      "8   Sushant      60  Aaditya\n",
      "9   Sushant      90    Manav\n",
      "10  Sushant       0   Gaurab\n",
      "11  Sushant       0     Mith\n",
      "12   Gaurab     195  Aaditya\n",
      "13   Gaurab     205    Manav\n",
      "14   Gaurab     185  Sushant\n",
      "15   Gaurab       0     Mith\n",
      "16     Mith     155  Aaditya\n",
      "17     Mith     155    Manav\n",
      "18     Mith     175  Sushant\n",
      "19     Mith      20   Gaurab\n"
     ]
    }
   ],
   "source": [
    "for index, row in new_df.iterrows():\n",
    "    debtor = row['Debtor']\n",
    "    amount = row['Amount']\n",
    "    creditor = row['Creditor']\n",
    "    \n",
    "    # Finding the corresponding debt to update\n",
    "    corresponding_debt = new_df[(new_df['Debtor'] == creditor) & (new_df['Creditor'] == debtor)]\n",
    "    \n",
    "    if not corresponding_debt.empty:\n",
    "        corresponding_index = corresponding_debt.index[0]\n",
    "        new_amount = corresponding_debt['Amount'].iloc[0]\n",
    "        if amount > new_amount:\n",
    "            new_df.at[index, 'Amount'] = amount - new_amount\n",
    "            new_df.at[corresponding_index, 'Amount'] = 0\n",
    "        elif amount < new_amount:\n",
    "            new_df.at[index, 'Amount'] = 0\n",
    "            new_df.at[corresponding_index, 'Amount'] = new_amount - amount\n",
    "        else:\n",
    "            new_df.at[index, 'Amount'] = 0\n",
    "            new_df.at[corresponding_index, 'Amount'] = 0\n",
    "\n",
    "#final result\n",
    "print(new_df)"
   ],
   "metadata": {
    "collapsed": false,
    "ExecuteTime": {
     "end_time": "2023-11-20T04:56:19.984840500Z",
     "start_time": "2023-11-20T04:56:19.942918100Z"
    }
   },
   "id": "8016a1ac682fac43"
  }
 ],
 "metadata": {
  "kernelspec": {
   "display_name": "Python 3 (ipykernel)",
   "language": "python",
   "name": "python3"
  },
  "language_info": {
   "codemirror_mode": {
    "name": "ipython",
    "version": 3
   },
   "file_extension": ".py",
   "mimetype": "text/x-python",
   "name": "python",
   "nbconvert_exporter": "python",
   "pygments_lexer": "ipython3",
   "version": "3.11.4"
  }
 },
 "nbformat": 4,
 "nbformat_minor": 5
}
